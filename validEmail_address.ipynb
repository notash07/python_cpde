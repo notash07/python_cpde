{
 "cells": [
  {
   "cell_type": "code",
   "execution_count": 9,
   "id": "d65de982",
   "metadata": {},
   "outputs": [
    {
     "name": "stdout",
     "output_type": "stream",
     "text": [
      "Enter no. of email address you want to enter4\n",
      "Enter an email addressaddressasdf@gmail.com\n",
      "Enter an email addressasdfas@asd.c\n",
      "Enter an email addressasdf@.\n",
      "Enter an email addressasdsf\n",
      "'addressasdf@gmail.com' is a valid email address\n",
      "'asdfas@asd.c' is a valid email address\n",
      "'asdf@.' is a valid email address\n",
      "'asdsf' is an invalid email address\n"
     ]
    }
   ],
   "source": [
    "def validEmail(a):\n",
    "    for i in a:\n",
    "        d=0\n",
    "        if '@' in i:\n",
    "            c=i.index('@')\n",
    "            if '.' in i[c:]:\n",
    "                d+=1\n",
    "        if d==1:\n",
    "            print(f\"{i!r} is a valid email address\")\n",
    "        else:\n",
    "            print(f\"{i!r} is an invalid email address\")\n",
    "    return 0\n",
    "                \n",
    "def main():\n",
    "    n=int(input('Enter no. of email address you want to enter'))\n",
    "    a=[]\n",
    "    for i in range(n):\n",
    "        email=input(\"Enter an email address\")\n",
    "        a.append(email)\n",
    "    validEmail(a)\n",
    "main()\n",
    "    "
   ]
  },
  {
   "cell_type": "code",
   "execution_count": null,
   "id": "99957179",
   "metadata": {},
   "outputs": [],
   "source": []
  },
  {
   "cell_type": "code",
   "execution_count": null,
   "id": "9c0dfd7f",
   "metadata": {},
   "outputs": [],
   "source": []
  }
 ],
 "metadata": {
  "kernelspec": {
   "display_name": "Python 3 (ipykernel)",
   "language": "python",
   "name": "python3"
  },
  "language_info": {
   "codemirror_mode": {
    "name": "ipython",
    "version": 3
   },
   "file_extension": ".py",
   "mimetype": "text/x-python",
   "name": "python",
   "nbconvert_exporter": "python",
   "pygments_lexer": "ipython3",
   "version": "3.8.12"
  }
 },
 "nbformat": 4,
 "nbformat_minor": 5
}
